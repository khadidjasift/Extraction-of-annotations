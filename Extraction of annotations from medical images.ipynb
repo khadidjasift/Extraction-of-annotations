{
  "nbformat": 4,
  "nbformat_minor": 0,
  "metadata": {
    "colab": {
      "provenance": []
    },
    "kernelspec": {
      "name": "python3",
      "display_name": "Python 3"
    },
    "language_info": {
      "name": "python"
    }
  },
  "cells": [
    {
      "cell_type": "markdown",
      "source": [
        "\n",
        "\n",
        "# **Extraction of annotations from medical images**\n",
        "\n"
      ],
      "metadata": {
        "id": "gPqr0amsanAM"
      }
    },
    {
      "cell_type": "markdown",
      "source": [
        "**Method 1 for radiography, CT, or MRI images**"
      ],
      "metadata": {
        "id": "Xthccnbldn06"
      }
    },
    {
      "cell_type": "code",
      "source": [
        "from google.colab import drive\n",
        "drive.mount('/content/drive', force_remount=True)"
      ],
      "metadata": {
        "id": "QRwp1vMQao1N"
      },
      "execution_count": null,
      "outputs": []
    },
    {
      "cell_type": "code",
      "source": [
        "data_folder = '/content/drive/MyDrive/Image'\n",
        "root_folder = '/content/drive/MyDrive/Image'"
      ],
      "metadata": {
        "id": "tCmVxr4May4N"
      },
      "execution_count": null,
      "outputs": []
    },
    {
      "cell_type": "code",
      "source": [
        "\n",
        "import cv2\n",
        "import numpy as np\n",
        "from skimage import measure\n",
        "import matplotlib.pyplot as plt\n",
        "import glob\n",
        "\n",
        "def black_contours(ct_numpy, min, max):\n",
        "    inverted = max - ct_numpy\n",
        "    clipped = inverted.clip(min, max)\n",
        "    clipped[clipped != max] = 0\n",
        "    clipped[clipped == max] = 1\n",
        "    return measure.find_contours(clipped, 0.95)\n",
        "\n",
        "#basepath = '/content/drive/MyDrive/Image'\n",
        "basepath = '/content/drive/MyDrive/Image/cellul/test_cellule *.jpg'\n",
        "paths = sorted(glob.glob(basepath))\n",
        "print('Images found:', len(paths))\n",
        "\n",
        "result_images = []\n",
        "for c, exam_path in enumerate(paths):\n",
        "    if c ==45:\n",
        "        break\n",
        "    im = cv2.imread(exam_path, cv2.IMREAD_GRAYSCALE) #\n",
        "    blur = cv2.GaussianBlur(im, (9, 9), 0)\n",
        "    _, binary_image = cv2.threshold(im, 50, 255, cv2.THRESH_BINARY)# charge l'image à partir du chemin\n",
        "\n",
        "    gaussian_filtered = cv2.GaussianBlur(binary_image, (9, 9), 0)\n",
        "\n",
        "\n",
        "    kernel = cv2.getStructuringElement(cv2.MORPH_RECT, (7, 7)) # ajustez la taille du noyau\n",
        "    opened_image = cv2.morphologyEx(gaussian_filtered, cv2.MORPH_OPEN, kernel) ####\n",
        "    # Appliquer une dilatation\n",
        "    dilated_image = cv2.dilate(opened_image, kernel, iterations=5)\n",
        "    contours = black_contours(opened_image,5, 200) # ajustez les seuils\n",
        "    contour_img = np.zeros_like(im)\n",
        "    result_images.append((im, contours))  # stocke l'image et les contours\n",
        "\n",
        "for i, (im, contours) in enumerate(result_images):\n",
        "    contour_img = np.zeros_like(im)\n",
        "\n",
        "    for contour in contours:\n",
        "        if len(contour) > 0:\n",
        "            contour = contour[:, ::-1].astype(np.int32)\n",
        "\n",
        "            # Filtrer les contours par taille\n",
        "            if  cv2.contourArea(contour) > 650:  # ajustez la taille minimale si nécessaire\n",
        "                cv2.drawContours(contour_img, [contour], -1, 255, 3)\n",
        "\n",
        "    fig, ax = plt.subplots()\n",
        "    ax.imshow(contour_img, cmap='gray')\n",
        "    plt.show()\n",
        "\n",
        "\n",
        "\n",
        "    #cv2.imwrite(f'/content/drive/MyDrive/Image/contour_image_{i+1}.png', contour_img)\n",
        "    cv2.imwrite(f'/content/drive/MyDrive/Image/contour_image_{i+1}.png', contour_img)\n"
      ],
      "metadata": {
        "id": "GKMT2ZqJaiFw"
      },
      "execution_count": null,
      "outputs": []
    },
    {
      "cell_type": "markdown",
      "source": [
        "**Technique 2 for images captured by a microscope**"
      ],
      "metadata": {
        "id": "NSz1jESJd_rf"
      }
    },
    {
      "cell_type": "code",
      "source": [
        "import cv2\n",
        "import numpy as np\n",
        "from skimage import measure\n",
        "import matplotlib.pyplot as plt\n",
        "import glob\n",
        "\n",
        "def black_contours(ct_numpy, min, max):\n",
        "    inverted = max - ct_numpy\n",
        "    clipped = inverted.clip(min, max)\n",
        "    clipped[clipped != max] = 0\n",
        "    clipped[clipped == max] = 1\n",
        "    return measure.find_contours(clipped, 0.95)\n",
        "\n",
        "basepath = '/content/drive/MyDrive/Image/cellule/test_cellule *.jpg'\n",
        "paths = sorted(glob.glob(basepath))\n",
        "print('Images found:', len(paths))\n",
        "\n",
        "result_images = []\n",
        "for c, exam_path in enumerate(paths):\n",
        "    if c ==45:\n",
        "        break\n",
        "    im = cv2.imread(exam_path, cv2.IMREAD_GRAYSCALE)\n",
        "    blur = cv2.GaussianBlur(im, (9, 9), 0)\n",
        "    _, binary_image = cv2.threshold(im, 50, 255, cv2.THRESH_BINARY)\n",
        "    gaussian_filtered = cv2.GaussianBlur(binary_image, (5, 5), 0)\n",
        "    kernel = cv2.getStructuringElement(cv2.MORPH_RECT, (7, 7))\n",
        "    opened_image = cv2.morphologyEx(gaussian_filtered, cv2.MORPH_OPEN, kernel)\n",
        "    dilated_image = cv2.dilate(gaussian_filtered, kernel, iterations=1)\n",
        "    contours = black_contours(gaussian_filtered,150, 200)\n",
        "    contour_img = np.zeros_like(im)\n",
        "    result_images.append((im, blur, binary_image, gaussian_filtered, opened_image, dilated_image, contours))\n",
        "\n",
        "for i, (im, blur, binary_image, gaussian_filtered, opened_image, dilated_image, contours) in enumerate(result_images):\n",
        "    contour_img = np.zeros_like(im)\n",
        "\n",
        "    for contour in contours:\n",
        "        if len(contour) > 0:\n",
        "            contour = contour[:, ::-1].astype(np.int32)\n",
        "\n",
        "            # Filtrer les contours par taille\n",
        "            if cv2.contourArea(contour) > 850:\n",
        "                cv2.drawContours(contour_img, [contour], -1, 255, 3)\n",
        "\n",
        "    fig, axs = plt.subplots(2, 4, figsize=(60, 60))\n",
        "    axs[0,0].imshow(im, cmap='gray')\n",
        "    axs[0,0].set_title('Original Image')\n",
        "    axs[0,1].imshow(blur, cmap='gray')\n",
        "    axs[0,1].set_title('Image floue')\n",
        "    axs[0,2].imshow(binary_image, cmap='gray')\n",
        "    axs[0,2].set_title('Image binaire')\n",
        "    axs[0,3].imshow(gaussian_filtered, cmap='gray')\n",
        "    axs[0,3].set_title('Image filtrée gaussienne')\n",
        "    axs[1,0].imshow(opened_image, cmap='gray')\n",
        "    axs[1,0].set_title('Image ouverte')\n",
        "    axs[1,1].imshow(dilated_image, cmap='gray')\n",
        "    axs[1,1].set_title('Dilated Image')\n",
        "    axs[1,2].imshow(contour_img, cmap='gray')\n",
        "    axs[1,2].set_title('Image dilatée')\n",
        "    axs[1,3].axis('off')  # Hide last subplot\n",
        "\n",
        "    filename = f'/content/drive/MyDrive/Image/cellule/test222/steps_image_{i+1}.png'\n",
        "    plt.savefig(filename)\n",
        "    plt.show()\n",
        "    print(f\"Figure saved as {filename}\")\n",
        "\n",
        "\n",
        "\n",
        "\n",
        "\n",
        "\n"
      ],
      "metadata": {
        "id": "YQ-R_iJ4ajGx"
      },
      "execution_count": null,
      "outputs": []
    }
  ]
}